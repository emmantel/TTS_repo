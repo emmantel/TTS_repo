{
 "cells": [
  {
   "cell_type": "markdown",
   "metadata": {},
   "source": [
    "# Module 9: Numpy Exercises"
   ]
  },
  {
   "cell_type": "markdown",
   "metadata": {},
   "source": [
    "## Exercise 1"
   ]
  },
  {
   "cell_type": "markdown",
   "metadata": {},
   "source": [
    "[See Hacker Rank Problem](https://www.hackerrank.com/challenges/np-arrays/problem)"
   ]
  },
  {
   "cell_type": "markdown",
   "metadata": {},
   "source": [
    "The NumPy (Numeric Python) package helps us manipulate large arrays and matrices of numeric data.\n",
    "\n",
    "To use the NumPy module, we need to import it using:"
   ]
  },
  {
   "cell_type": "raw",
   "metadata": {},
   "source": [
    "import numpy"
   ]
  },
  {
   "cell_type": "markdown",
   "metadata": {},
   "source": [
    "**Arrays**\n",
    "\n",
    "A NumPy array is a grid of values. They are similar to lists, except that every element of an array must be the same type."
   ]
  },
  {
   "cell_type": "raw",
   "metadata": {},
   "source": [
    "import numpy\n",
    "\n",
    "a = numpy.array([1,2,3,4,5])\n",
    "print a[1]          #2\n",
    "\n",
    "b = numpy.array([1,2,3,4,5],float)\n",
    "print b[1]          #2.0"
   ]
  },
  {
   "cell_type": "markdown",
   "metadata": {},
   "source": [
    "In the above example, ```numpy.array()``` is used to convert a list into a NumPy array. The second argument (float) can be used to set the type of array elements."
   ]
  },
  {
   "cell_type": "markdown",
   "metadata": {},
   "source": [
    "**Tasks**\n",
    "\n",
    "You are given a space separated list of numbers.\n",
    "Your task is to print a reversed NumPy array with the element type float."
   ]
  },
  {
   "cell_type": "markdown",
   "metadata": {},
   "source": [
    "**Input Format**\n",
    "\n",
    "A single line of input containing space separated numbers."
   ]
  },
  {
   "cell_type": "markdown",
   "metadata": {},
   "source": [
    "**Output Format**\n",
    "\n",
    "Print the reverse NumPy array with type float."
   ]
  },
  {
   "cell_type": "markdown",
   "metadata": {},
   "source": [
    "**Sample Input**"
   ]
  },
  {
   "cell_type": "raw",
   "metadata": {},
   "source": [
    "1 2 3 4 -8 -10"
   ]
  },
  {
   "cell_type": "markdown",
   "metadata": {},
   "source": [
    "**Sample Output**"
   ]
  },
  {
   "cell_type": "raw",
   "metadata": {},
   "source": [
    "[-10.  -8.   4.   3.   2.   1.]"
   ]
  },
  {
   "cell_type": "code",
   "execution_count": 7,
   "metadata": {},
   "outputs": [
    {
     "name": "stdout",
     "output_type": "stream",
     "text": [
      "1 2 3\n"
     ]
    }
   ],
   "source": [
    "import numpy\n",
    "\n",
    "def arrays(arr):\n",
    "    # complete this function\n",
    "    # use numpy.array\n",
    "    narray = numpy.array(arr,float)\n",
    "    nflip = numpy.flip(narray)\n",
    "    return nflip\n",
    "\n",
    "arr = input().strip().split(' ')\n",
    "result = arrays(arr)\n",
    "print(result)"
   ]
  },
  {
   "cell_type": "markdown",
   "metadata": {},
   "source": [
    "[Submit Hacker Rank Problem](https://www.hackerrank.com/challenges/np-arrays/submissions)"
   ]
  },
  {
   "cell_type": "markdown",
   "metadata": {},
   "source": [
    "## Exercise 2"
   ]
  },
  {
   "cell_type": "markdown",
   "metadata": {},
   "source": [
    "[See Hacker Rank Problem](https://www.hackerrank.com/challenges/np-polynomials/problem)"
   ]
  },
  {
   "cell_type": "markdown",
   "metadata": {},
   "source": [
    "**poly**\n",
    "\n",
    "The poly tool returns the coefficients of a polynomial with the given sequence of roots."
   ]
  },
  {
   "cell_type": "raw",
   "metadata": {},
   "source": [
    "print numpy.poly([-1, 1, 1, 10])        #Output : [  1 -11   9  11 -10]"
   ]
  },
  {
   "cell_type": "markdown",
   "metadata": {},
   "source": [
    "**roots**\n",
    "\n",
    "The roots tool returns the roots of a polynomial with the given coefficients."
   ]
  },
  {
   "cell_type": "raw",
   "metadata": {},
   "source": [
    "print numpy.roots([1, 0, -1])           #Output : [-1.  1.]"
   ]
  },
  {
   "cell_type": "markdown",
   "metadata": {},
   "source": [
    "**polyint**\n",
    "\n",
    "The polyint tool returns an antiderivative (indefinite integral) of a polynomial."
   ]
  },
  {
   "cell_type": "raw",
   "metadata": {},
   "source": [
    "print numpy.polyint([1, 1, 1])          #Output : [ 0.33333333  0.5         1.          0.        ]"
   ]
  },
  {
   "cell_type": "markdown",
   "metadata": {},
   "source": [
    "**polyder**\n",
    "\n",
    "The polyder tool returns the derivative of the specified order of a polynomial."
   ]
  },
  {
   "cell_type": "raw",
   "metadata": {},
   "source": [
    "print numpy.polyder([1, 1, 1, 1])       #Output : [3 2 1]"
   ]
  },
  {
   "cell_type": "markdown",
   "metadata": {},
   "source": [
    "**polyval**\n",
    "\n",
    "The polyval tool evaluates the polynomial at specific value."
   ]
  },
  {
   "cell_type": "raw",
   "metadata": {},
   "source": [
    "print numpy.polyval([1, -2, 0, 2], 4)   #Output : 34"
   ]
  },
  {
   "cell_type": "markdown",
   "metadata": {},
   "source": [
    "**polyfit**\n",
    "\n",
    "The polyfit tool fits a polynomial of a specified order to a set of data using a least-squares approach."
   ]
  },
  {
   "cell_type": "raw",
   "metadata": {},
   "source": [
    "print numpy.polyfit([0,1,-1, 2, -2], [0,1,1, 4, 4], 2)\n",
    "#Output : [  1.00000000e+00   0.00000000e+00  -3.97205465e-16]"
   ]
  },
  {
   "cell_type": "markdown",
   "metadata": {},
   "source": [
    "The functions polyadd, polysub, polymul, and polydiv also handle proper addition, subtraction, multiplication, and division of polynomial coefficients, respectively."
   ]
  },
  {
   "cell_type": "markdown",
   "metadata": {},
   "source": [
    "**Task**\n",
    "\n",
    "You are given the coefficients of a polynomial **P**.\n",
    "Your task is to find the value of **P** at point ***x***."
   ]
  },
  {
   "cell_type": "markdown",
   "metadata": {},
   "source": [
    "**Input Format**\n",
    "\n",
    "The first line contains the space separated value of the coefficients in **P**.\n",
    "The second line contains the value of ***x***."
   ]
  },
  {
   "cell_type": "markdown",
   "metadata": {},
   "source": [
    "**Output Format**\n",
    "\n",
    "Print the desired value."
   ]
  },
  {
   "cell_type": "markdown",
   "metadata": {},
   "source": [
    "**Sample Input**"
   ]
  },
  {
   "cell_type": "raw",
   "metadata": {},
   "source": [
    "1.1 2 3\n",
    "0"
   ]
  },
  {
   "cell_type": "markdown",
   "metadata": {},
   "source": [
    "**Sample Output**"
   ]
  },
  {
   "cell_type": "raw",
   "metadata": {},
   "source": [
    "3.0"
   ]
  },
  {
   "cell_type": "code",
   "execution_count": 9,
   "metadata": {},
   "outputs": [
    {
     "name": "stdout",
     "output_type": "stream",
     "text": [
      "1.1 2 4\n",
      "3.0\n"
     ]
    }
   ],
   "source": [
    "# Step 0: Import NumPy library\n",
    "import numpy as np\n",
    "\n",
    "# Step 1: Define function to evaluate polynomials\n",
    "def polyevalf(coefficients, x):\n",
    "    # Step 2: Evaluate the polynomial at the given value\n",
    "    result = np.polyval(coefficients, x)\n",
    "    \n",
    "    # Step 3: Return the result\n",
    "    return result\n",
    "\n",
    "# Step 4: Read the coefficients of the polynomial\n",
    "coefficients = np.array(list(map(float, input().split(' '))))\n",
    "\n",
    "# Step 5: Read the value at which to evaluate the polynomial\n",
    "x = float(input())\n",
    "\n",
    "# Step 6: Evaluate the polynomial at the given value\n",
    "result = polyevalf(coefficients, x)\n",
    "\n",
    "# Step 7: Print the result\n",
    "print(result)"
   ]
  },
  {
   "cell_type": "markdown",
   "metadata": {},
   "source": [
    "[Submit Hacker Rank Problem](https://www.hackerrank.com/challenges/np-polynomials/submissions)"
   ]
  }
 ],
 "metadata": {
  "kernelspec": {
   "display_name": "Python 3 (ipykernel)",
   "language": "python",
   "name": "python3"
  },
  "language_info": {
   "codemirror_mode": {
    "name": "ipython",
    "version": 3
   },
   "file_extension": ".py",
   "mimetype": "text/x-python",
   "name": "python",
   "nbconvert_exporter": "python",
   "pygments_lexer": "ipython3",
   "version": "3.11.3"
  }
 },
 "nbformat": 4,
 "nbformat_minor": 4
}
