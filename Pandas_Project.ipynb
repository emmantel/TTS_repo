{
 "cells": [
  {
   "cell_type": "markdown",
   "metadata": {},
   "source": [
    "# Pandas Project"
   ]
  },
  {
   "cell_type": "markdown",
   "metadata": {},
   "source": [
    "### Exercise 1. Getting & Knowing Your Data"
   ]
  },
  {
   "cell_type": "markdown",
   "metadata": {},
   "source": [
    "[./01_Getting_&_Knowing_Your_Data/World Food Facts](https://nbviewer.org/github/emmantel/TTS_repo/blob/main/pandas-exercise/01_Getting_%26_Knowing_Your_Data/World%20Food%20Facts/Exercises.ipynb)"
   ]
  },
  {
   "cell_type": "markdown",
   "metadata": {},
   "source": [
    "### Exercise 2. Filtering & Sorting"
   ]
  },
  {
   "cell_type": "markdown",
   "metadata": {},
   "source": [
    "[./02_Filtering_&_Sorting/Chipolte](https://nbviewer.org/github/emmantel/TTS_repo/blob/main/pandas-exercise/02_Filtering_%26_Sorting/Chipotle/Exercises.ipynb)"
   ]
  },
  {
   "cell_type": "markdown",
   "metadata": {},
   "source": [
    "### Exercise 3. Grouping"
   ]
  },
  {
   "cell_type": "markdown",
   "metadata": {},
   "source": [
    "[./03_Grouping/Alcohol_Consumption](https://nbviewer.org/github/emmantel/TTS_repo/blob/main/pandas-exercise/03_Grouping/Alcohol_Consumption/Exercise.ipynb)"
   ]
  },
  {
   "cell_type": "markdown",
   "metadata": {},
   "source": [
    "### Exercise 4. Apply"
   ]
  },
  {
   "cell_type": "markdown",
   "metadata": {},
   "source": [
    "[./04_Apply/US_Crime_Rates](https://nbviewer.org/github/emmantel/TTS_repo/blob/main/pandas-exercise/04_Apply/US_Crime_Rates/Exercises.ipynb)"
   ]
  },
  {
   "cell_type": "markdown",
   "metadata": {},
   "source": [
    "### Exercise 5. Merge"
   ]
  },
  {
   "cell_type": "markdown",
   "metadata": {},
   "source": [
    "[./05_Merge/Fictitous Names](https://nbviewer.org/github/emmantel/TTS_repo/blob/main/pandas-exercise/05_Merge/Fictitous%20Names/Exercises.ipynb)"
   ]
  },
  {
   "cell_type": "markdown",
   "metadata": {},
   "source": [
    "### Exercise 6. Stats"
   ]
  },
  {
   "cell_type": "markdown",
   "metadata": {},
   "source": [
    "[./06_Stats/US_Baby_Names](https://github.com/emmantel/TTS_repo/blob/main/pandas-exercise/06_Stats/US_Baby_Names/Exercises.ipynb)"
   ]
  },
  {
   "cell_type": "markdown",
   "metadata": {},
   "source": [
    "### Exercise 7. Visualization"
   ]
  },
  {
   "cell_type": "markdown",
   "metadata": {},
   "source": [
    "[./07_Visualization/Chipotle](https://nbviewer.org/github/emmantel/TTS_repo/blob/main/pandas-exercise/07_Visualization/Chipotle/Exercises.ipynb)"
   ]
  },
  {
   "cell_type": "markdown",
   "metadata": {},
   "source": [
    "### Exercise 8. Creating Series and DataFrames"
   ]
  },
  {
   "cell_type": "markdown",
   "metadata": {},
   "source": [
    "[./08_Creating_Series_and_DataFrames/Pokemon](https://nbviewer.org/github/emmantel/TTS_repo/blob/main/pandas-exercise/08_Creating_Series_and_DataFrames/Pokemon/Exercises.ipynb)"
   ]
  },
  {
   "cell_type": "markdown",
   "metadata": {},
   "source": [
    "### Exercise 9. Time Series"
   ]
  },
  {
   "cell_type": "markdown",
   "metadata": {},
   "source": [
    "[./09_Time_Series/Apple_Stock](https://nbviewer.org/github/emmantel/TTS_repo/blob/main/pandas-exercise/09_Time_Series/Apple_Stock/Exercises.ipynb)"
   ]
  },
  {
   "cell_type": "markdown",
   "metadata": {},
   "source": [
    "### Exercise 10. Deleting"
   ]
  },
  {
   "cell_type": "markdown",
   "metadata": {},
   "source": [
    "[./10_Deleting/Wine](https://nbviewer.org/github/emmantel/TTS_repo/blob/main/pandas-exercise/10_Deleting/Wine/Exercises.ipynb)"
   ]
  }
 ],
 "metadata": {
  "kernelspec": {
   "display_name": "Python 3 (ipykernel)",
   "language": "python",
   "name": "python3"
  },
  "language_info": {
   "codemirror_mode": {
    "name": "ipython",
    "version": 3
   },
   "file_extension": ".py",
   "mimetype": "text/x-python",
   "name": "python",
   "nbconvert_exporter": "python",
   "pygments_lexer": "ipython3",
   "version": "3.11.3"
  }
 },
 "nbformat": 4,
 "nbformat_minor": 4
}
