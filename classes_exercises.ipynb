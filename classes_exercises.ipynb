{
 "cells": [
  {
   "cell_type": "markdown",
   "metadata": {},
   "source": [
    "# Module 7: Practice Exercises"
   ]
  },
  {
   "cell_type": "markdown",
   "metadata": {},
   "source": [
    "## Exercise 1. "
   ]
  },
  {
   "cell_type": "markdown",
   "metadata": {},
   "source": [
    "[See Hacker Rank Problem](https://www.hackerrank.com/challenges/class-1-dealing-with-complex-numbers/problem)"
   ]
  },
  {
   "cell_type": "markdown",
   "metadata": {},
   "source": [
    "### Classes: Dealing with Complex Numbers"
   ]
  },
  {
   "cell_type": "markdown",
   "metadata": {},
   "source": [
    "For this challenge, you are given two complex numbers, and you have to print the result of their addition, subtraction, multiplication, division and modulus operations.\n",
    "\n",
    "The real and imaginary precision part should be correct up to two decimal places."
   ]
  },
  {
   "cell_type": "markdown",
   "metadata": {},
   "source": [
    "**Input Format**"
   ]
  },
  {
   "cell_type": "markdown",
   "metadata": {},
   "source": [
    "One line of input: The real and imaginary part of a number separated by a space."
   ]
  },
  {
   "cell_type": "markdown",
   "metadata": {},
   "source": [
    "**Output Format**"
   ]
  },
  {
   "cell_type": "markdown",
   "metadata": {},
   "source": [
    "For two complex numbers **C** and **D**, the output should be in the following sequence on separate lines:"
   ]
  },
  {
   "cell_type": "markdown",
   "metadata": {},
   "source": [
    "**Sample Input**"
   ]
  },
  {
   "cell_type": "raw",
   "metadata": {},
   "source": [
    "2 1\n",
    "5 6"
   ]
  },
  {
   "cell_type": "markdown",
   "metadata": {},
   "source": [
    "**Sample Output**"
   ]
  },
  {
   "cell_type": "raw",
   "metadata": {},
   "source": [
    "7.00+7.00i\n",
    "-3.00-5.00i\n",
    "4.00+17.00i\n",
    "0.26-0.11i\n",
    "2.24+0.00i\n",
    "7.81+0.00i"
   ]
  },
  {
   "cell_type": "markdown",
   "metadata": {},
   "source": [
    "**Concept**"
   ]
  },
  {
   "cell_type": "markdown",
   "metadata": {},
   "source": [
    "Python is a fully object-oriented language like C++, Java, etc. \n",
    "\n",
    "Methods with a double underscore before and after their name are considered as built-in methods. They are used by interpreters and are generally used in the implementation of overloaded operators or other built-in functionality."
   ]
  },
  {
   "cell_type": "markdown",
   "metadata": {},
   "source": [
    "```__add__-> Can be overloaded for + operation```"
   ]
  },
  {
   "cell_type": "markdown",
   "metadata": {},
   "source": [
    "```__sub__ -> Can be overloaded for - operation```"
   ]
  },
  {
   "cell_type": "markdown",
   "metadata": {},
   "source": [
    "```__mul__ -> Can be overloaded for * operation```"
   ]
  },
  {
   "cell_type": "markdown",
   "metadata": {},
   "source": [
    "For operator overloading see [Data Model Reference](https://docs.python.org/3.2/reference/datamodel.html)"
   ]
  },
  {
   "cell_type": "markdown",
   "metadata": {},
   "source": [
    "### What is [overloading](https://stackabuse.com/overloading-functions-and-operators-in-python/)?"
   ]
  },
  {
   "cell_type": "markdown",
   "metadata": {},
   "source": [
    "Overloading, in the context of programming, refers to the ability of a function or an operator to behave in different ways depending on the parameters that are passed to the function, or the operands that the operator acts on."
   ]
  },
  {
   "cell_type": "markdown",
   "metadata": {},
   "source": [
    "### [Answer](https://thedataincubator.github.io/coding-challenges/challenges/class-1-dealing-with-complex-numbers.html)"
   ]
  },
  {
   "cell_type": "code",
   "execution_count": 67,
   "metadata": {},
   "outputs": [
    {
     "name": "stdout",
     "output_type": "stream",
     "text": [
      "2 1\n",
      "5 6\n",
      "7.00+7.00i\n",
      "-3.00-5.00i\n",
      "4.00+17.00i\n",
      "0.26-0.11i\n",
      "2.24+0.00i\n",
      "7.81+0.00i\n"
     ]
    }
   ],
   "source": [
    "import math\n",
    "\n",
    "class Complex(object):\n",
    "    \n",
    "    def __init__(self, real, imaginary):\n",
    "        self.real = real\n",
    "        self.imaginary = imaginary\n",
    "        \n",
    "    def __add__(self, no):\n",
    "        real = self.real + no.real\n",
    "        imaginary = self.imaginary + no.imaginary\n",
    "        return Complex(real, imaginary)\n",
    "        \n",
    "    def __sub__(self, no):\n",
    "        real = self.real - no.real\n",
    "        imaginary = self.imaginary - no.imaginary \n",
    "        return Complex(real, imaginary)\n",
    "                \n",
    "    def __mul__(self, no):\n",
    "        real = self.real * no.real + (-1)*self.imaginary*no.imaginary \n",
    "        imaginary = self.imaginary*no.real + self.real*no.imaginary \n",
    "        return Complex(real, imaginary)\n",
    "\n",
    "    def __truediv__(self, no):\n",
    "        real = (self.real*no.real + self.imaginary*no.imaginary) / (no.real**2 + no.imaginary**2)\n",
    "        imaginary = (self.imaginary*no.real - self.real*no.imaginary) / (no.real**2 + no.imaginary**2)\n",
    "        return Complex(real, imaginary)\n",
    "        \n",
    "    def mod(self):\n",
    "        real = math.sqrt(self.real**2 + self.imaginary**2)\n",
    "        imaginary = 0\n",
    "        return Complex(real, imaginary)\n",
    "       \n",
    "    def __str__(self):\n",
    "        if self.imaginary == 0:\n",
    "            result = \"%.2f+0.00i\" % (self.real)\n",
    "        elif self.real == 0:\n",
    "            if self.imaginary >= 0:\n",
    "                result = \"0.00+%.2fi\" % (self.imaginary)\n",
    "            else:\n",
    "                result = \"0.00-%.2fi\" % (abs(self.imaginary))\n",
    "        elif self.imaginary > 0:\n",
    "            result = \"%.2f+%.2fi\" % (self.real, self.imaginary)\n",
    "        else:\n",
    "            result = \"%.2f-%.2fi\" % (self.real, abs(self.imaginary))\n",
    "        return result\n",
    "\n",
    "if __name__ == '__main__':\n",
    "    c = map(float, input().split())\n",
    "    d = map(float, input().split())\n",
    "    x = Complex(*c)\n",
    "    y = Complex(*d)\n",
    "    print(*map(str, [x+y, x-y, x*y, x/y, x.mod(), y.mod()]), sep='\\n')"
   ]
  },
  {
   "cell_type": "markdown",
   "metadata": {},
   "source": [
    "[Submit Hacker Rank Problem](https://www.hackerrank.com/challenges/class-1-dealing-with-complex-numbers/submissions)"
   ]
  }
 ],
 "metadata": {
  "kernelspec": {
   "display_name": "Python 3 (ipykernel)",
   "language": "python",
   "name": "python3"
  },
  "language_info": {
   "codemirror_mode": {
    "name": "ipython",
    "version": 3
   },
   "file_extension": ".py",
   "mimetype": "text/x-python",
   "name": "python",
   "nbconvert_exporter": "python",
   "pygments_lexer": "ipython3",
   "version": "3.11.3"
  }
 },
 "nbformat": 4,
 "nbformat_minor": 4
}
