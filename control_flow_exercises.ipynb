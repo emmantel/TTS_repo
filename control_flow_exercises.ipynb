{
 "cells": [
  {
   "cell_type": "markdown",
   "metadata": {},
   "source": [
    "# Module 3: Control Flow Exercises"
   ]
  },
  {
   "cell_type": "markdown",
   "metadata": {},
   "source": [
    "### 1. Guess a number between 1 to 9 given by the user. Hint. [Random](https://docs.python.org/3/library/random.html)"
   ]
  },
  {
   "cell_type": "code",
   "execution_count": 5,
   "metadata": {},
   "outputs": [
    {
     "name": "stdout",
     "output_type": "stream",
     "text": [
      "Guess a number between 1 and 9: 1\n",
      "Guess again! 2\n",
      "Guess again! 3\n",
      "Guess again! 4\n",
      "Guess again! 5\n",
      "Guess again! 6\n",
      "Guess again! 7\n",
      "You guessed correct!\n"
     ]
    }
   ],
   "source": [
    "from random import randint\n",
    "randn = randint(1,9)\n",
    "guess = int(input(\"Guess a number between 1 and 9: \"))\n",
    "guesscorrect = (guess == randn)\n",
    "\n",
    "while not guesscorrect:\n",
    "    guess = int(input(\"Guess again! \"))\n",
    "    guesscorrect = (guess == randn)\n",
    "\n",
    "print(\"You guessed correct!\")"
   ]
  },
  {
   "cell_type": "markdown",
   "metadata": {},
   "source": [
    "### 2. Check the validity of password input by the user. Hint. [Re](https://docs.python.org/3/library/re.html)\n",
    "\n",
    "Validation:\n",
    "\n",
    "- At least 1 letter between [a-z] and 1 letter between [A-Z].\n",
    "- At least 1 number between [0-9].\n",
    "- At least 1 character from [$#@].\n",
    "- Minimum length 6 characters.\n",
    "- Maximum length 16 characters."
   ]
  },
  {
   "cell_type": "code",
   "execution_count": 9,
   "metadata": {},
   "outputs": [
    {
     "name": "stdout",
     "output_type": "stream",
     "text": [
      "Input your password: lala\n",
      "Not a valid password/n\n",
      "Input your password: aA1$#@\n",
      "Valid pasword.\n"
     ]
    }
   ],
   "source": [
    "import re\n",
    "pattern = re.compile(\"^(?=.*[a-z])(?=.*[A-Z])(?=.*\\d)(?=.*[$#@])[A-Za-z\\d$#@]{6,16}$\")\n",
    "pw = input(\"Input your password: \")\n",
    "goodpw = pattern.match(pw)\n",
    "\n",
    "while goodpw is None:\n",
    "    print(\"Not a valid password\")\n",
    "    pw = input(\"Input your password: \")\n",
    "    goodpw = pattern.match(pw)\n",
    "\n",
    "print(\"Valid pasword.\")\n"
   ]
  },
  {
   "cell_type": "markdown",
   "metadata": {},
   "source": [
    "### 3. Get input of the age of 3 people by user and determine oldest and youngest among them"
   ]
  },
  {
   "cell_type": "code",
   "execution_count": 10,
   "metadata": {},
   "outputs": [
    {
     "name": "stdout",
     "output_type": "stream",
     "text": [
      "Enter First Person's Age : 1\n",
      "Enter Second Person's Age : 2\n",
      "Enter Third Person's Age : 3\n",
      "Oldest person: 3\n",
      "Youngest person: 1\n"
     ]
    }
   ],
   "source": [
    "age1 =  int(input(\"Enter First Person's Age : \"))\n",
    "age2 =  int(input(\"Enter Second Person's Age : \"))\n",
    "age3 =  int(input(\"Enter Third Person's Age : \"))\n",
    "\n",
    "ages = [age1, age2, age3]\n",
    "ages.sort()\n",
    "print(\"Oldest person: {}\".format(ages[-1]))\n",
    "print(\"Youngest person: {}\".format(ages[0]))"
   ]
  },
  {
   "cell_type": "markdown",
   "metadata": {},
   "source": [
    "### 4. A student will not be allowed to sit in exam if his/her attendance is less than 75%.\n",
    "\n",
    "Take following input from user\n",
    "\n",
    "- Number of classes held\n",
    "- Number of classes attended.\n",
    "- And print percentage of class attended\n",
    "- Is student is allowed to sit in exam or not?"
   ]
  },
  {
   "cell_type": "code",
   "execution_count": 14,
   "metadata": {},
   "outputs": [
    {
     "name": "stdout",
     "output_type": "stream",
     "text": [
      "Enter the number of classes held: 100\n",
      "Enter the number of classes attended: 75\n",
      "Attendance Percentage: 75.00\n",
      "The student is allowed to sit in the exam\n"
     ]
    }
   ],
   "source": [
    "n_classes = int(input(\"Enter the number of classes held: \"))\n",
    "n_attended = int(input(\"Enter the number of classes attended: \"))\n",
    "att_pct = (n_attended/n_classes) * 100\n",
    "print(\"Attendance Percentage: {:.2f}\".format(att_pct))\n",
    "\n",
    "if att_pct < 75:\n",
    "    print(\"The student is not allowed to sit in the exam\")\n",
    "else:\n",
    "    print(\"The student is allowed to sit in the exam\")"
   ]
  },
  {
   "cell_type": "markdown",
   "metadata": {},
   "source": [
    "### 5. Get an integer n from the user and perform the following actions:\n",
    "\n",
    "Find out - \n",
    "- if n is odd, print \"weird\"\n",
    "- if n is even and in the inclusive range of 2 to 5, print \"Not Weird\"\n",
    "- if n is even and in the inclusive range of 6 to 20, print \"Weird\"\n",
    "- if n is even and greater than 20, print \"Not Weird\""
   ]
  },
  {
   "cell_type": "code",
   "execution_count": 20,
   "metadata": {},
   "outputs": [
    {
     "name": "stdout",
     "output_type": "stream",
     "text": [
      "Enter an integer: 7\n",
      "weird\n"
     ]
    }
   ],
   "source": [
    "n = int(input(\"Enter an integer: \"))\n",
    "\n",
    "if n%2 != 0:\n",
    "    print(\"weird\")\n",
    "elif n in range(2,5):\n",
    "    print(\"Not weird\")\n",
    "elif n in range(6,21):\n",
    "    print(\"Weird\")\n",
    "elif n > 20:\n",
    "    print(\"Not Weird\")\n",
    "else:\n",
    "    print(\"You entered something I can't deal with\")"
   ]
  }
 ],
 "metadata": {
  "kernelspec": {
   "display_name": "Python 3 (ipykernel)",
   "language": "python",
   "name": "python3"
  },
  "language_info": {
   "codemirror_mode": {
    "name": "ipython",
    "version": 3
   },
   "file_extension": ".py",
   "mimetype": "text/x-python",
   "name": "python",
   "nbconvert_exporter": "python",
   "pygments_lexer": "ipython3",
   "version": "3.11.3"
  }
 },
 "nbformat": 4,
 "nbformat_minor": 4
}
