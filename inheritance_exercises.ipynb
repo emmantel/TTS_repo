{
 "cells": [
  {
   "cell_type": "markdown",
   "metadata": {},
   "source": [
    "# Module 8: Inheritance Exercises"
   ]
  },
  {
   "cell_type": "markdown",
   "metadata": {},
   "source": [
    "## Exercise 1. "
   ]
  },
  {
   "cell_type": "markdown",
   "metadata": {},
   "source": [
    "You are given two classes, Person and Student, where Person is the base class and Student is the derived class. Completed code for Person and a declaration for Student are provided for you in the editor. Observe that Student inherits all the properties of Person.\n",
    "\n",
    "Complete the Student class by writing the following:\n",
    "\n",
    "A Student class constructor, which has 4 parameters:\n",
    "\n",
    "- A string: firstName\n",
    "- A string: lastName\n",
    "- An integer: id \n",
    "- An integer array (or vector) of test scores: scores\n",
    "\n",
    "A char **calculate()** method that calculates a Student object's average and returns the grade character representative of their calculated average:\n",
    "```\n",
    "A | 90-100\n",
    "B | 80-89\n",
    "C | 70-79\n",
    "D | 60-69\n",
    "F | <60\n",
    "```"
   ]
  },
  {
   "cell_type": "code",
   "execution_count": 1,
   "metadata": {},
   "outputs": [],
   "source": [
    "# define the Person class\n",
    "class Person:\n",
    "    def __init__(self, firstName, lastName):\n",
    "        self.firstName = firstName\n",
    "        self.lastName = lastName\n",
    "\n",
    "# define the Student class\n",
    "class Student(Person):\n",
    "    # Fill in the Blanks\n",
    "    def __init__(self, firstName,lastName, id, scores):\n",
    "        super().__init__(firstName, lastName)\n",
    "        self.id = id\n",
    "        self.scores = scores\n",
    "        \n",
    "    # define the calculate function\n",
    "    def calculate(self):\n",
    "        average = sum(self.scores) / len(self.scores)\n",
    "        if average >= 90:\n",
    "            return 'A'\n",
    "        elif (average >= 80):\n",
    "            return 'B'\n",
    "        elif (average >= 70):\n",
    "            return 'C'\n",
    "        elif (average >= 60):\n",
    "            return 'D'\n",
    "        else:\n",
    "            return 'F'\n"
   ]
  },
  {
   "cell_type": "code",
   "execution_count": 6,
   "metadata": {},
   "outputs": [
    {
     "name": "stdout",
     "output_type": "stream",
     "text": [
      "Name: Gary Jackson \n",
      "Student ID: 7 \n",
      "You got a C.\n"
     ]
    }
   ],
   "source": [
    "# Your code goes here\n",
    "# Create a Student object\n",
    "student = Student(\"Gary\", \"Jackson\", 7, [80, 50, 90, 75, 85])\n",
    "\n",
    "# Get the calculated grade\n",
    "grade = student.calculate()\n",
    "\n",
    "# Output the result\n",
    "description = \"Name: %s %s \\nStudent ID: %d \\nYou got a %s.\" % (student.firstName, student.lastName, student.id, grade)\n",
    "print(description)"
   ]
  },
  {
   "cell_type": "markdown",
   "metadata": {},
   "source": [
    "**Output Format:** <br> <br>\n",
    "Name: Gary Jackson <br>\n",
    "Student ID: 7 <br>\n",
    "You got a C. <br>"
   ]
  },
  {
   "cell_type": "markdown",
   "metadata": {},
   "source": [
    "[How To Submit Your Exercises](https://www.youtube.com/watch?v=GCd4auHwZZY)"
   ]
  }
 ],
 "metadata": {
  "kernelspec": {
   "display_name": "Python 3 (ipykernel)",
   "language": "python",
   "name": "python3"
  },
  "language_info": {
   "codemirror_mode": {
    "name": "ipython",
    "version": 3
   },
   "file_extension": ".py",
   "mimetype": "text/x-python",
   "name": "python",
   "nbconvert_exporter": "python",
   "pygments_lexer": "ipython3",
   "version": "3.11.3"
  }
 },
 "nbformat": 4,
 "nbformat_minor": 4
}
