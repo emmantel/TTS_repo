{
 "cells": [
  {
   "cell_type": "markdown",
   "metadata": {},
   "source": [
    "# Module 1: Practice Exercises"
   ]
  },
  {
   "cell_type": "markdown",
   "metadata": {},
   "source": [
    "1. Accept the user's first and last name and print them in reverse order with a space between them"
   ]
  },
  {
   "cell_type": "code",
   "execution_count": 2,
   "metadata": {},
   "outputs": [
    {
     "name": "stdout",
     "output_type": "stream",
     "text": [
      "Input your First Name : TTS\n",
      "Input your Last Name : Data Science\n",
      "Hello Data Science TTS\n"
     ]
    }
   ],
   "source": [
    "first_name = input(\"Input your First Name : \")\n",
    "last_name = input(\"Input your Last Name : \")\n",
    "print(\"Hello \" + last_name + \" \" + first_name)"
   ]
  },
  {
   "cell_type": "markdown",
   "metadata": {},
   "source": [
    "2. Accept an integer (n) and compute the value of n+nn+nnn"
   ]
  },
  {
   "cell_type": "code",
   "execution_count": 2,
   "metadata": {},
   "outputs": [
    {
     "name": "stdout",
     "output_type": "stream",
     "text": [
      "Input and integer : 4\n",
      "492\n"
     ]
    }
   ],
   "source": [
    "n = input(\"Input and integer : \")\n",
    "ans = int(n) +  int(n+n) + int(n+n+n)\n",
    "print(ans)"
   ]
  },
  {
   "cell_type": "markdown",
   "metadata": {},
   "source": [
    "3. Ask the user \"What country are you from?\" then print the following statement: \"I have heard that [input] is a beautiful country!\""
   ]
  },
  {
   "cell_type": "code",
   "execution_count": 5,
   "metadata": {},
   "outputs": [
    {
     "name": "stdout",
     "output_type": "stream",
     "text": [
      "What country are you from? France\n",
      "I have heard that France is a beautiful country\n"
     ]
    }
   ],
   "source": [
    "country = input(\"What country are you from? \")\n",
    "response = \"I have heard that {} is a beautiful country\".format(country)\n",
    "print(response)"
   ]
  },
  {
   "cell_type": "markdown",
   "metadata": {},
   "source": [
    "4. What is the output of the following Python code x = 10 y = 50 if (x ** 2 > 100 and y < 100): print(x, y)\n",
    "\n",
    "There is no output because the if statement will never evaluate to be true, as 10^2 is always 100 (which is not larger than 100)"
   ]
  },
  {
   "cell_type": "markdown",
   "metadata": {},
   "source": [
    "5. What is the output of the following addition (+) operator, and why does this code chunk execute this way?\n",
    "\n",
    "a = [10, 20]\n",
    "b = a\n",
    "b += [30, 40]\n",
    "print(a)\n",
    "print(b)\n",
    "\n",
    "The output is:\n",
    "[10, 20, 30, 40]\n",
    "[10, 20, 30, 40]\n",
    "\n",
    "It executes this way because the b=a statement links the two variables together and b points back to a, so when b is altered, a also changes."
   ]
  },
  {
   "cell_type": "code",
   "execution_count": 8,
   "metadata": {},
   "outputs": [
    {
     "name": "stdout",
     "output_type": "stream",
     "text": [
      "[10, 20, 30, 40]\n",
      "[10, 20, 30, 40]\n"
     ]
    }
   ],
   "source": [
    "a = [10, 20]\n",
    "b = a\n",
    "b += [30, 40]\n",
    "print(a)\n",
    "print(b)\n"
   ]
  },
  {
   "cell_type": "markdown",
   "metadata": {},
   "source": [
    "6. What is the output of the following code and what arithmetic operators is being used here? print(2%6)\n",
    "\n",
    "The arithmetic operator used is the modulo, or remainder, and the output of the code is 2 (the remainder of trying to divide 2 by 6 evenly is 2)."
   ]
  },
  {
   "cell_type": "markdown",
   "metadata": {},
   "source": [
    "7. What is the output of the following code and what arithmetic operators are used here? print(2 * 3 ** 3 * 4)\n",
    "\n",
    "The output is 216. The operators used are the exponent (two asterisks) and the multiplication (one asterisk) symbol. The exponent takes presedence in evaluation, so 3^3 gets executed first, then the multiplications are done, leading to 216."
   ]
  },
  {
   "cell_type": "markdown",
   "metadata": {},
   "source": [
    "8. What is a text editor?\n",
    "\n",
    "A text editor is a program that allows you to edit and write code (or any text), many text editors have special features that highlight and color the keywords according to the programming language that you're using. The porgram is not run in the text editor."
   ]
  },
  {
   "cell_type": "markdown",
   "metadata": {},
   "source": [
    "9. What is python?\n",
    "\n",
    "Python is a high-level programming language that allows the user to do all kinds of things and use libraries that can extend the base functions beyond basic math to do data analysis, visualiization, etc.Python is very intuitive and easy to use."
   ]
  },
  {
   "cell_type": "markdown",
   "metadata": {},
   "source": [
    "10. What is jupyter notebook, what type of python environment is it, and what alternatives are there to jupyter notebook?\n",
    "\n",
    "Jupyter notebook is a web-based environment operating on a client-server architecture. It can run code cell by cell which makes it user friendly and easy to debug. It can also include figures and markdown within the code.\n",
    "\n",
    "Alternatives include Google Colab, Microsoft Visual Studio, IDLE, and Spyder."
   ]
  }
 ],
 "metadata": {
  "kernelspec": {
   "display_name": "Python 3 (ipykernel)",
   "language": "python",
   "name": "python3"
  },
  "language_info": {
   "codemirror_mode": {
    "name": "ipython",
    "version": 3
   },
   "file_extension": ".py",
   "mimetype": "text/x-python",
   "name": "python",
   "nbconvert_exporter": "python",
   "pygments_lexer": "ipython3",
   "version": "3.11.3"
  }
 },
 "nbformat": 4,
 "nbformat_minor": 4
}
